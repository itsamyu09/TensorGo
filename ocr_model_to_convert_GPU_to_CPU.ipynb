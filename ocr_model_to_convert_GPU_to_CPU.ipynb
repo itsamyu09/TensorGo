{
  "cells": [
    {
      "cell_type": "code",
      "execution_count": 7,
      "metadata": {
        "colab": {
          "base_uri": "https://localhost:8080/"
        },
        "id": "Jvg0ad34mds_",
        "outputId": "20f47896-04b4-47fa-c2a5-222def4c29d0"
      },
      "outputs": [
        {
          "output_type": "stream",
          "name": "stdout",
          "text": [
            "Requirement already satisfied: easyocr in /usr/local/lib/python3.10/dist-packages (1.7.1)\n",
            "Requirement already satisfied: torch in /usr/local/lib/python3.10/dist-packages (from easyocr) (2.4.0+cu121)\n",
            "Requirement already satisfied: torchvision>=0.5 in /usr/local/lib/python3.10/dist-packages (from easyocr) (0.19.0+cu121)\n",
            "Requirement already satisfied: opencv-python-headless in /usr/local/lib/python3.10/dist-packages (from easyocr) (4.10.0.84)\n",
            "Requirement already satisfied: scipy in /usr/local/lib/python3.10/dist-packages (from easyocr) (1.13.1)\n",
            "Requirement already satisfied: numpy in /usr/local/lib/python3.10/dist-packages (from easyocr) (1.26.4)\n",
            "Requirement already satisfied: Pillow in /usr/local/lib/python3.10/dist-packages (from easyocr) (9.4.0)\n",
            "Requirement already satisfied: scikit-image in /usr/local/lib/python3.10/dist-packages (from easyocr) (0.23.2)\n",
            "Requirement already satisfied: python-bidi in /usr/local/lib/python3.10/dist-packages (from easyocr) (0.6.0)\n",
            "Requirement already satisfied: PyYAML in /usr/local/lib/python3.10/dist-packages (from easyocr) (6.0.2)\n",
            "Requirement already satisfied: Shapely in /usr/local/lib/python3.10/dist-packages (from easyocr) (2.0.6)\n",
            "Requirement already satisfied: pyclipper in /usr/local/lib/python3.10/dist-packages (from easyocr) (1.3.0.post5)\n",
            "Requirement already satisfied: ninja in /usr/local/lib/python3.10/dist-packages (from easyocr) (1.11.1.1)\n",
            "Requirement already satisfied: filelock in /usr/local/lib/python3.10/dist-packages (from torch->easyocr) (3.15.4)\n",
            "Requirement already satisfied: typing-extensions>=4.8.0 in /usr/local/lib/python3.10/dist-packages (from torch->easyocr) (4.12.2)\n",
            "Requirement already satisfied: sympy in /usr/local/lib/python3.10/dist-packages (from torch->easyocr) (1.13.2)\n",
            "Requirement already satisfied: networkx in /usr/local/lib/python3.10/dist-packages (from torch->easyocr) (3.3)\n",
            "Requirement already satisfied: jinja2 in /usr/local/lib/python3.10/dist-packages (from torch->easyocr) (3.1.4)\n",
            "Requirement already satisfied: fsspec in /usr/local/lib/python3.10/dist-packages (from torch->easyocr) (2024.6.1)\n",
            "Requirement already satisfied: imageio>=2.33 in /usr/local/lib/python3.10/dist-packages (from scikit-image->easyocr) (2.34.2)\n",
            "Requirement already satisfied: tifffile>=2022.8.12 in /usr/local/lib/python3.10/dist-packages (from scikit-image->easyocr) (2024.8.28)\n",
            "Requirement already satisfied: packaging>=21 in /usr/local/lib/python3.10/dist-packages (from scikit-image->easyocr) (24.1)\n",
            "Requirement already satisfied: lazy-loader>=0.4 in /usr/local/lib/python3.10/dist-packages (from scikit-image->easyocr) (0.4)\n",
            "Requirement already satisfied: MarkupSafe>=2.0 in /usr/local/lib/python3.10/dist-packages (from jinja2->torch->easyocr) (2.1.5)\n",
            "Requirement already satisfied: mpmath<1.4,>=1.1.0 in /usr/local/lib/python3.10/dist-packages (from sympy->torch->easyocr) (1.3.0)\n"
          ]
        }
      ],
      "source": [
        "pip install easyocr\n"
      ]
    },
    {
      "cell_type": "code",
      "execution_count": 8,
      "metadata": {
        "colab": {
          "base_uri": "https://localhost:8080/"
        },
        "id": "yRd8jCC-nx0-",
        "outputId": "7186d966-738a-42bb-96e6-ea2f1ba984cf"
      },
      "outputs": [
        {
          "output_type": "stream",
          "name": "stderr",
          "text": [
            "WARNING:easyocr.easyocr:Neither CUDA nor MPS are available - defaulting to CPU. Note: This module is much faster with a GPU.\n",
            "/usr/local/lib/python3.10/dist-packages/easyocr/detection.py:78: FutureWarning: You are using `torch.load` with `weights_only=False` (the current default value), which uses the default pickle module implicitly. It is possible to construct malicious pickle data which will execute arbitrary code during unpickling (See https://github.com/pytorch/pytorch/blob/main/SECURITY.md#untrusted-models for more details). In a future release, the default value for `weights_only` will be flipped to `True`. This limits the functions that could be executed during unpickling. Arbitrary objects will no longer be allowed to be loaded via this mode unless they are explicitly allowlisted by the user via `torch.serialization.add_safe_globals`. We recommend you start setting `weights_only=True` for any use case where you don't have full control of the loaded file. Please open an issue on GitHub for any issues related to this experimental feature.\n",
            "  net.load_state_dict(copyStateDict(torch.load(trained_model, map_location=device)))\n",
            "/usr/local/lib/python3.10/dist-packages/easyocr/recognition.py:169: FutureWarning: You are using `torch.load` with `weights_only=False` (the current default value), which uses the default pickle module implicitly. It is possible to construct malicious pickle data which will execute arbitrary code during unpickling (See https://github.com/pytorch/pytorch/blob/main/SECURITY.md#untrusted-models for more details). In a future release, the default value for `weights_only` will be flipped to `True`. This limits the functions that could be executed during unpickling. Arbitrary objects will no longer be allowed to be loaded via this mode unless they are explicitly allowlisted by the user via `torch.serialization.add_safe_globals`. We recommend you start setting `weights_only=True` for any use case where you don't have full control of the loaded file. Please open an issue on GitHub for any issues related to this experimental feature.\n",
            "  state_dict = torch.load(model_path, map_location=device)\n",
            "WARNING:easyocr.easyocr:Using CPU. Note: This module is much faster with a GPU.\n"
          ]
        }
      ],
      "source": [
        "import easyocr\n",
        "import cv2\n",
        "\n",
        "# Load the model with GPU support\n",
        "reader_gpu = easyocr.Reader(['en'], gpu=True)\n",
        "\n",
        "# Optionally, load a CPU version for comparison\n",
        "reader_cpu = easyocr.Reader(['en'], gpu=False)\n"
      ]
    },
    {
      "cell_type": "code",
      "source": [
        "# Load the image\n",
        "image_path = '/content/example_image.webp'\n",
        "image = cv2.imread(image_path)\n",
        " # Adjust language as needed\n",
        "results_gpu = reader_gpu.readtext(image)\n",
        "\n",
        "# First, sort by Y-axis (top to bottom)\n",
        "results = sorted(results_gpu, key=lambda r: r[0][0][1])\n",
        "\n",
        "# Then sort by X-axis (left to right) within each line\n",
        "sorted_results = sorted(results, key=lambda r: (r[0][0][1], r[0][0][0]))\n",
        "\n",
        "# Join the sorted text results into a single string\n",
        "ordered_text = ' '.join([result[1] for result in sorted_results])\n",
        "\n",
        "print(ordered_text)\n"
      ],
      "metadata": {
        "colab": {
          "base_uri": "https://localhost:8080/"
        },
        "id": "zM4ETOv2072G",
        "outputId": "90645a39-cecb-4ff8-b818-d274bfe762d1"
      },
      "execution_count": 23,
      "outputs": [
        {
          "output_type": "stream",
          "name": "stdout",
          "text": [
            "Noisy image to test Tesseract OCR\n"
          ]
        }
      ]
    },
    {
      "cell_type": "code",
      "source": [
        "print(ordered_text.upper())"
      ],
      "metadata": {
        "colab": {
          "base_uri": "https://localhost:8080/"
        },
        "id": "lXI_TSeN1r64",
        "outputId": "bc4e1b81-254f-434a-b09b-b50469710842"
      },
      "execution_count": 24,
      "outputs": [
        {
          "output_type": "stream",
          "name": "stdout",
          "text": [
            "NOISY IMAGE TO TEST TESSERACT OCR\n"
          ]
        }
      ]
    },
    {
      "cell_type": "code",
      "source": [
        "import time\n",
        "# Function to calculate FPS\n",
        "def calculate_fps(model, image, iterations=10):\n",
        "    start_time = time.time()\n",
        "    for _ in range(iterations):\n",
        "        model.readtext(image)\n",
        "    end_time = time.time()\n",
        "    total_time = end_time - start_time\n",
        "    fps = iterations / total_time\n",
        "    return fps\n",
        "\n",
        "# Calculate FPS for both GPU and CPU models\n",
        "fps_gpu = calculate_fps(reader_gpu, image)\n",
        "fps_cpu = calculate_fps(reader_cpu, image)\n",
        "\n",
        "print(f\"FPS on GPU: {fps_gpu:.2f}\")\n",
        "print(f\"FPS on CPU: {fps_cpu:.2f}\")\n"
      ],
      "metadata": {
        "colab": {
          "base_uri": "https://localhost:8080/"
        },
        "id": "WohRV25gKCGK",
        "outputId": "0380d541-4ad9-4ad4-b320-f40e343dc203"
      },
      "execution_count": 25,
      "outputs": [
        {
          "output_type": "stream",
          "name": "stdout",
          "text": [
            "FPS on GPU: 0.48\n",
            "FPS on CPU: 0.41\n"
          ]
        }
      ]
    },
    {
      "cell_type": "code",
      "source": [
        "import tensorflow as tf"
      ],
      "metadata": {
        "id": "SjxX7Tm43Uzc"
      },
      "execution_count": 26,
      "outputs": []
    },
    {
      "cell_type": "code",
      "source": [
        "import torch\n",
        "\n",
        "# Ensure the model runs on CPU\n",
        "device = torch.device('cpu')\n",
        "\n",
        "# Initialize the EasyOCR reader with the desired languages\n",
        "reader = easyocr.Reader(['en'], gpu=False)  # Set gpu=False to ensure the model runs on CPU\n",
        "\n",
        "# Load your image path\n",
        "image_path = '/content/example_image.webp'  # Replace with your image path\n",
        "\n",
        "# Perform OCR on the image\n",
        "results_cpu = reader.readtext(image_path)\n",
        "\n",
        "results = sorted(results_cpu, key=lambda r: r[0][0][1])\n",
        "\n",
        "# Then sort by X-axis (left to right) within each line\n",
        "sorted_results = sorted(results_cpu, key=lambda r: (r[0][0][0], r[0][0][1]))\n",
        "\n",
        "# Join the sorted text results into a single string\n",
        "ordered_text_new = ' '.join([result[1] for result in sorted_results])\n",
        "\n",
        "print(ordered_text_new)\n",
        "\n"
      ],
      "metadata": {
        "colab": {
          "base_uri": "https://localhost:8080/"
        },
        "id": "PPKjKOGR9hnY",
        "outputId": "6c0550ac-2b37-483e-da49-b299f631c34c"
      },
      "execution_count": 27,
      "outputs": [
        {
          "output_type": "stream",
          "name": "stderr",
          "text": [
            "WARNING:easyocr.easyocr:Using CPU. Note: This module is much faster with a GPU.\n"
          ]
        },
        {
          "output_type": "stream",
          "name": "stdout",
          "text": [
            "Tesseract OCR Noisy image to test\n"
          ]
        }
      ]
    },
    {
      "cell_type": "code",
      "source": [
        "print(ordered_text_new.upper())"
      ],
      "metadata": {
        "colab": {
          "base_uri": "https://localhost:8080/"
        },
        "id": "bpv5Zi9O_zYH",
        "outputId": "6a32a213-a25f-440b-bb76-d38bd07e81e8"
      },
      "execution_count": 28,
      "outputs": [
        {
          "output_type": "stream",
          "name": "stdout",
          "text": [
            "TESSERACT OCR NOISY IMAGE TO TEST\n"
          ]
        }
      ]
    },
    {
      "cell_type": "code",
      "execution_count": 29,
      "metadata": {
        "colab": {
          "base_uri": "https://localhost:8080/"
        },
        "id": "ZMzur-ycvbvv",
        "outputId": "8119f6d4-d12f-4037-e8b8-c48a3a8dcb31"
      },
      "outputs": [
        {
          "output_type": "stream",
          "name": "stdout",
          "text": [
            "Time taken by CPU model(Speed): 2.1300 seconds\n",
            "Time taken by GPU model(Speed): 1.7791 seconds\n"
          ]
        }
      ],
      "source": [
        "import time\n",
        "\n",
        "# Perform OCR using the CPU-based model and measure time\n",
        "start_time = time.time()\n",
        "results_cpu = reader_cpu.readtext(image)\n",
        "cpu_time = time.time() - start_time\n",
        "\n",
        "# Perform OCR using the GPU-based model and measure time\n",
        "start_time = time.time()\n",
        "results_gpu = reader_gpu.readtext(image)\n",
        "gpu_time = time.time() - start_time\n",
        "\n",
        "# Print the time taken by each model\n",
        "print(f\"Time taken by CPU model(Speed): {cpu_time:.4f} seconds\")\n",
        "print(f\"Time taken by GPU model(Speed): {gpu_time:.4f} seconds\")\n",
        "\n"
      ]
    },
    {
      "cell_type": "code",
      "source": [
        "import matplotlib.pyplot as plt\n",
        "\n",
        "models = ['CPU-based OCR', 'GPU-based OCR']\n",
        "times = [cpu_time, gpu_time]\n",
        "\n",
        "plt.figure(figsize=(6, 5))\n",
        "plt.bar(models, times, color=['pink', 'blue'])\n",
        "plt.xlabel('Model')\n",
        "plt.ylabel('Time (seconds)')\n",
        "plt.title('Comparison of GPU and CPU Processing Time')\n",
        "plt.ylim(0, max(times) + 1)  # Set y-axis limit slightly above the maximum time for better visibility\n",
        "plt.grid(True, linestyle='--', alpha=0.7)\n",
        "\n",
        "# Show the plot\n",
        "plt.tight_layout()\n",
        "plt.show()"
      ],
      "metadata": {
        "colab": {
          "base_uri": "https://localhost:8080/",
          "height": 507
        },
        "id": "u1MeXdnGop3F",
        "outputId": "f8973f97-f793-4d2b-e937-4a7a6c7dfd52"
      },
      "execution_count": 30,
      "outputs": [
        {
          "output_type": "display_data",
          "data": {
            "text/plain": [
              "<Figure size 600x500 with 1 Axes>"
            ],
            "image/png": "[encoded data removed]"
          },
          "metadata": {}
        }
      ]
    },
    {
      "cell_type": "code",
      "source": [
        "# Ground truth for the image\n",
        "ground_truth = \"NOISY IMAGE TO TEST TESSERACT OCR\"  # Replace with the actual text in your image\n",
        "\n",
        "# Perform OCR on the image\n",
        "results_cpu = reader.readtext(image_path)\n",
        "\n",
        "results = sorted(results_cpu, key=lambda r: r[0][0][1])\n",
        "\n",
        "# Then sort by X-axis (left to right) within each line\n",
        "sorted_results = sorted(results_cpu, key=lambda r: (r[0][0][1], r[0][0][0]))\n",
        "\n",
        "# Join the sorted text results into a single string\n",
        "ordered_text_new = ' '.join([result[1] for result in sorted_results])\n",
        "\n",
        "extracted_text=ordered_text_new.upper()\n",
        "print(extracted_text)\n",
        "# Simple accuracy check\n",
        "accuracy = sum(1 for a, b in zip(extracted_text, ground_truth) if a == b) / len(ground_truth)\n",
        "print(f\"Accuracy: {accuracy * 100:.2f}%\")"
      ],
      "metadata": {
        "colab": {
          "base_uri": "https://localhost:8080/"
        },
        "id": "ogxhj1K3KDh-",
        "outputId": "c934f994-51a0-4f0a-bbd3-898763dc37f8"
      },
      "execution_count": 37,
      "outputs": [
        {
          "output_type": "stream",
          "name": "stdout",
          "text": [
            "NOISY IMAGE TO TEST TESSERACT OCR\n",
            "Accuracy: 100.00%\n"
          ]
        }
      ]
    },
    {
      "cell_type": "code",
      "source": [
        "# Initialize the EasyOCR reader with or without GPU\n",
        "device = 'gpu' if torch.cuda.is_available() else 'cpu'\n",
        "reader = easyocr.Reader(['en'], gpu=(device == 'gpu'))\n",
        "\n",
        "# Load your image path\n",
        "image_path = '/content/example_image.webp'  # Replace with your image path\n",
        "\n",
        "# Number of repetitions for FPS calculation\n",
        "num_reps = 10\n",
        "\n",
        "# Measure FPS\n",
        "start_time = time.time()\n",
        "\n",
        "for _ in range(num_reps):\n",
        "    reader.readtext(image_path)\n",
        "\n",
        "end_time = time.time()\n",
        "\n",
        "# Calculate FPS\n",
        "fps = num_reps / (end_time - start_time)\n",
        "print(f\"FPS on {device.upper()}: {fps:.2f}\")"
      ],
      "metadata": {
        "colab": {
          "base_uri": "https://localhost:8080/"
        },
        "id": "tbZdwDs7R36N",
        "outputId": "4187cb2e-4e52-4539-d9a9-1f84ebb83383"
      },
      "execution_count": 38,
      "outputs": [
        {
          "output_type": "stream",
          "name": "stderr",
          "text": [
            "WARNING:easyocr.easyocr:Using CPU. Note: This module is much faster with a GPU.\n",
            "/usr/local/lib/python3.10/dist-packages/easyocr/detection.py:78: FutureWarning: You are using `torch.load` with `weights_only=False` (the current default value), which uses the default pickle module implicitly. It is possible to construct malicious pickle data which will execute arbitrary code during unpickling (See https://github.com/pytorch/pytorch/blob/main/SECURITY.md#untrusted-models for more details). In a future release, the default value for `weights_only` will be flipped to `True`. This limits the functions that could be executed during unpickling. Arbitrary objects will no longer be allowed to be loaded via this mode unless they are explicitly allowlisted by the user via `torch.serialization.add_safe_globals`. We recommend you start setting `weights_only=True` for any use case where you don't have full control of the loaded file. Please open an issue on GitHub for any issues related to this experimental feature.\n",
            "  net.load_state_dict(copyStateDict(torch.load(trained_model, map_location=device)))\n",
            "/usr/local/lib/python3.10/dist-packages/easyocr/recognition.py:169: FutureWarning: You are using `torch.load` with `weights_only=False` (the current default value), which uses the default pickle module implicitly. It is possible to construct malicious pickle data which will execute arbitrary code during unpickling (See https://github.com/pytorch/pytorch/blob/main/SECURITY.md#untrusted-models for more details). In a future release, the default value for `weights_only` will be flipped to `True`. This limits the functions that could be executed during unpickling. Arbitrary objects will no longer be allowed to be loaded via this mode unless they are explicitly allowlisted by the user via `torch.serialization.add_safe_globals`. We recommend you start setting `weights_only=True` for any use case where you don't have full control of the loaded file. Please open an issue on GitHub for any issues related to this experimental feature.\n",
            "  state_dict = torch.load(model_path, map_location=device)\n"
          ]
        },
        {
          "output_type": "stream",
          "name": "stdout",
          "text": [
            "FPS on CPU: 0.45\n"
          ]
        }
      ]
    }
  ],
  "metadata": {
    "colab": {
      "provenance": []
    },
    "kernelspec": {
      "display_name": "Python 3",
      "name": "python3"
    },
    "language_info": {
      "name": "python"
    }
  },
  "nbformat": 4,
  "nbformat_minor": 0
}